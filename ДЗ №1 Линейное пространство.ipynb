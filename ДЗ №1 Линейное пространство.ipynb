{
 "cells": [
  {
   "cell_type": "code",
   "execution_count": 2,
   "id": "073b0088",
   "metadata": {},
   "outputs": [],
   "source": [
    "# 1. Найдите скалярное произведение векторов  𝑥,𝑦∈ℝ:\n",
    "# а)  𝑥=(0,−3,6), 𝑦=(−4,7,9); \n",
    "# б)  𝑥=(7,−4,0,1), 𝑦=(−3,1,11,2)."
   ]
  },
  {
   "cell_type": "code",
   "execution_count": 3,
   "id": "a71d4898",
   "metadata": {},
   "outputs": [],
   "source": [
    "import numpy as np\n",
    "from numpy.linalg import norm\n",
    "import matplotlib.pyplot as plt"
   ]
  },
  {
   "cell_type": "code",
   "execution_count": 4,
   "id": "a4267db5",
   "metadata": {},
   "outputs": [],
   "source": [
    "x = np.array([0, -3, 6])\n",
    "y = np.array([-4, 7, 9])"
   ]
  },
  {
   "cell_type": "code",
   "execution_count": 5,
   "id": "6ad43555",
   "metadata": {},
   "outputs": [
    {
     "name": "stdout",
     "output_type": "stream",
     "text": [
      "Скалярное произведение x и y:\n",
      "33\n"
     ]
    }
   ],
   "source": [
    "print(f'Скалярное произведение x и y:\\n{np.dot(x, y)}')"
   ]
  },
  {
   "cell_type": "code",
   "execution_count": 6,
   "id": "b959af93",
   "metadata": {},
   "outputs": [],
   "source": [
    "x = np.array([7, -4, 0, 1])\n",
    "y = np.array([-3, 1, 11, 2])"
   ]
  },
  {
   "cell_type": "code",
   "execution_count": 7,
   "id": "68769821",
   "metadata": {},
   "outputs": [
    {
     "name": "stdout",
     "output_type": "stream",
     "text": [
      "Скалярное произведение x и y:\n",
      "-23\n"
     ]
    }
   ],
   "source": [
    "print(f'Скалярное произведение x и y:\\n{np.dot(x, y)}')"
   ]
  },
  {
   "cell_type": "code",
   "execution_count": 8,
   "id": "3c94f0b7",
   "metadata": {},
   "outputs": [],
   "source": [
    "# 2. Найдите нормы векторов  (4,2,4)  и  (12,3,4) и угол между ними"
   ]
  },
  {
   "cell_type": "code",
   "execution_count": 9,
   "id": "30fcfe1d",
   "metadata": {},
   "outputs": [],
   "source": [
    "a = np.array([4, 2, 4])\n",
    "b = np.array([12, 3, 4])"
   ]
  },
  {
   "cell_type": "code",
   "execution_count": 10,
   "id": "7e7072c2",
   "metadata": {},
   "outputs": [
    {
     "name": "stdout",
     "output_type": "stream",
     "text": [
      "l1 норма вектора a:\n",
      "10.0\n",
      "l1 норма вектора b:\n",
      "19.0\n"
     ]
    }
   ],
   "source": [
    "print(f'l1 норма вектора a:\\n{norm(a, ord=1)}')\n",
    "print(f'l1 норма вектора b:\\n{norm(b, ord=1)}')"
   ]
  },
  {
   "cell_type": "code",
   "execution_count": 11,
   "id": "25216e22",
   "metadata": {},
   "outputs": [
    {
     "name": "stdout",
     "output_type": "stream",
     "text": [
      "l1 норма вектора a:\n",
      "6.0\n",
      "l1 норма вектора b:\n",
      "13.0\n"
     ]
    }
   ],
   "source": [
    "print(f'l1 норма вектора a:\\n{norm(a, ord=2)}')\n",
    "print(f'l1 норма вектора b:\\n{norm(b, ord=2)}')"
   ]
  },
  {
   "cell_type": "code",
   "execution_count": 12,
   "id": "a9d6580f",
   "metadata": {},
   "outputs": [
    {
     "name": "stdout",
     "output_type": "stream",
     "text": [
      "Косинус угла между a и b:0.90\n",
      "Угол между a и b:0.46\n"
     ]
    }
   ],
   "source": [
    "cos_phi = np.dot(a, b) / norm(a) / norm(b)\n",
    "print(f'Косинус угла между a и b:{cos_phi:.2f}')\n",
    "print(f'Угол между a и b:{np.arccos(cos_phi):.2f}')"
   ]
  },
  {
   "cell_type": "code",
   "execution_count": 13,
   "id": "9568e575",
   "metadata": {},
   "outputs": [],
   "source": [
    "# 4. 4. Выясните, какие из нижеперечисленных векторов образуют ортонормированный базис в\n",
    "# линейном пространстве  ℝ3:\n",
    "# а)  (1,0,0),(0,0,1); \n",
    "# б)  (1/2⎯⎯√,−1/2⎯⎯√,0),(1/2⎯⎯√,1/2⎯⎯√,0),(0,0,1); \n",
    "# в)  (1/2,−1/2,0),(0,1/2,1/2),(0,0,1); \n",
    "# г)  (1,0,0),(0,1,0),(0,0,1)?"
   ]
  },
  {
   "cell_type": "code",
   "execution_count": 14,
   "id": "0b211d18",
   "metadata": {},
   "outputs": [],
   "source": [
    "# a) Образуют ортонормированный базис в ℝ3, но не являются базисом ℝ3"
   ]
  },
  {
   "cell_type": "code",
   "execution_count": 15,
   "id": "0bcb996f",
   "metadata": {},
   "outputs": [],
   "source": [
    "# б) \n",
    "\n",
    "a = np.array([1/(2)**0.5, -1/(2)**0.5, 0])\n",
    "b = np.array([1/(2)**0.5, 1/(2)**0.5, 0])\n",
    "c = np.array([0, 0, 1])"
   ]
  },
  {
   "cell_type": "code",
   "execution_count": 16,
   "id": "bfcebe1d",
   "metadata": {},
   "outputs": [
    {
     "name": "stdout",
     "output_type": "stream",
     "text": [
      "(a, a)=1\n",
      "(b, b)=1\n",
      "(c, c)=1\n"
     ]
    }
   ],
   "source": [
    "print(f'(a, a)={a.dot(a):1.0f}')\n",
    "print(f'(b, b)={b.dot(b):1.0f}')\n",
    "print(f'(c, c)={c.dot(c):1.0f}')"
   ]
  },
  {
   "cell_type": "code",
   "execution_count": 17,
   "id": "74ed2d61",
   "metadata": {},
   "outputs": [
    {
     "name": "stdout",
     "output_type": "stream",
     "text": [
      "(a, b)=0.0\n",
      "(a, c)=0.0\n",
      "(c, b)=0.0\n"
     ]
    }
   ],
   "source": [
    "print(f'(a, b)={a.dot(b)}')\n",
    "print(f'(a, c)={a.dot(c)}')\n",
    "print(f'(c, b)={c.dot(b)}')"
   ]
  },
  {
   "cell_type": "markdown",
   "id": "7d58bcef",
   "metadata": {},
   "source": [
    "#### Вывод: вектор образует ортонормированный базис в линейном пространстве , так как выполняются оба условия (𝑒𝑖,𝑒𝑗)=0  ∀ 𝑖≠𝑗 и (𝑒𝑖,𝑒𝑖)=1 ∀ 𝑖∈[1,𝑛]"
   ]
  },
  {
   "cell_type": "code",
   "execution_count": 19,
   "id": "ba37f8a9",
   "metadata": {},
   "outputs": [],
   "source": [
    "# в)\n",
    "\n",
    "a = np.array([1/2, -1/2, 0])\n",
    "b = np.array([0, 1/2, 1/2])\n",
    "c = np.array([0, 0, 1])"
   ]
  },
  {
   "cell_type": "code",
   "execution_count": 20,
   "id": "05ab5cc5",
   "metadata": {},
   "outputs": [
    {
     "name": "stdout",
     "output_type": "stream",
     "text": [
      "(a, a)=0\n",
      "(b, b)=0\n",
      "(c, c)=1\n"
     ]
    }
   ],
   "source": [
    "print(f'(a, a)={a.dot(a):1.0f}')\n",
    "print(f'(b, b)={b.dot(b):1.0f}')\n",
    "print(f'(c, c)={c.dot(c):1.0f}')"
   ]
  },
  {
   "cell_type": "markdown",
   "id": "06309547",
   "metadata": {},
   "source": [
    "#### Вывод: не образуют ортонормированный базис, так как уже не выполняется условие (𝑒𝑖,𝑒𝑖)=1 ∀ 𝑖∈[1,𝑛] (дальше проверять не буду)"
   ]
  },
  {
   "cell_type": "code",
   "execution_count": 21,
   "id": "99e07c80",
   "metadata": {},
   "outputs": [],
   "source": [
    "# г)\n",
    "\n",
    "a = np.array([1, 0, 0])\n",
    "b = np.array([0, 1, 0])\n",
    "c = np.array([0, 0, 1])"
   ]
  },
  {
   "cell_type": "code",
   "execution_count": 22,
   "id": "0c3da5a7",
   "metadata": {},
   "outputs": [
    {
     "name": "stdout",
     "output_type": "stream",
     "text": [
      "(a, a)=1\n",
      "(b, b)=1\n",
      "(c, c)=1\n"
     ]
    }
   ],
   "source": [
    "print(f'(a, a)={a.dot(a):1.0f}')\n",
    "print(f'(b, b)={b.dot(b):1.0f}')\n",
    "print(f'(c, c)={c.dot(c):1.0f}')"
   ]
  },
  {
   "cell_type": "code",
   "execution_count": 23,
   "id": "332ccfbd",
   "metadata": {},
   "outputs": [
    {
     "name": "stdout",
     "output_type": "stream",
     "text": [
      "(a, b)=0\n",
      "(a, c)=0\n",
      "(c, b)=0\n"
     ]
    }
   ],
   "source": [
    "print(f'(a, b)={a.dot(b)}')\n",
    "print(f'(a, c)={a.dot(c)}')\n",
    "print(f'(c, b)={c.dot(b)}')"
   ]
  },
  {
   "cell_type": "markdown",
   "id": "148fadd8",
   "metadata": {},
   "source": [
    "#### Вывод: Вектор образует ортонормированный базис, так как выполняются оба условия."
   ]
  },
  {
   "cell_type": "code",
   "execution_count": null,
   "id": "6fe9ea0c",
   "metadata": {},
   "outputs": [],
   "source": []
  }
 ],
 "metadata": {
  "kernelspec": {
   "display_name": "Python 3",
   "language": "python",
   "name": "python3"
  },
  "language_info": {
   "codemirror_mode": {
    "name": "ipython",
    "version": 3
   },
   "file_extension": ".py",
   "mimetype": "text/x-python",
   "name": "python",
   "nbconvert_exporter": "python",
   "pygments_lexer": "ipython3",
   "version": "3.8.8"
  }
 },
 "nbformat": 4,
 "nbformat_minor": 5
}
