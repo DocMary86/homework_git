{
 "cells": [
  {
   "cell_type": "code",
   "execution_count": 4,
   "id": "3ea63aed",
   "metadata": {},
   "outputs": [],
   "source": [
    "%matplotlib inline\n",
    "import numpy as np"
   ]
  },
  {
   "cell_type": "code",
   "execution_count": 5,
   "id": "cb0a600e",
   "metadata": {},
   "outputs": [
    {
     "data": {
      "text/plain": [
       "17.519358310174884"
      ]
     },
     "execution_count": 5,
     "metadata": {},
     "output_type": "execute_result"
    }
   ],
   "source": [
    "np.random.uniform(0, 37)"
   ]
  },
  {
   "cell_type": "code",
   "execution_count": null,
   "id": "dc6dd795",
   "metadata": {},
   "outputs": [],
   "source": [
    "for i in range(0, 5):\n",
    "    a = input()\n",
    "    x = np.random.uniform(0, 37)\n",
    "    print(int(x))"
   ]
  }
 ],
 "metadata": {
  "kernelspec": {
   "display_name": "Python 3",
   "language": "python",
   "name": "python3"
  },
  "language_info": {
   "codemirror_mode": {
    "name": "ipython",
    "version": 3
   },
   "file_extension": ".py",
   "mimetype": "text/x-python",
   "name": "python",
   "nbconvert_exporter": "python",
   "pygments_lexer": "ipython3",
   "version": "3.8.8"
  }
 },
 "nbformat": 4,
 "nbformat_minor": 5
}
