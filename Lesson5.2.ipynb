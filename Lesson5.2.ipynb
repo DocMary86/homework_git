{
 "cells": [
  {
   "cell_type": "code",
   "execution_count": 1,
   "id": "9bca75ae",
   "metadata": {},
   "outputs": [],
   "source": [
    "%matplotlib inline\n",
    "import numpy as np\n",
    "import matplotlib.pyplot as plt\n",
    "import matplotlib.mlab as mlab"
   ]
  },
  {
   "cell_type": "code",
   "execution_count": 2,
   "id": "1b60c9a8",
   "metadata": {},
   "outputs": [
    {
     "name": "stdout",
     "output_type": "stream",
     "text": [
      "0.5 0.5 0.25 0.75\n",
      "0.45 0.47 0.19 0.73\n"
     ]
    }
   ],
   "source": [
    "k, m, a, b = 0, 0, 0, 0\n",
    "n = 100\n",
    "for i in range(0, n):\n",
    "    x = np.random.uniform(0, 10)\n",
    "    y = np.random.uniform(0, 10)\n",
    "    if x < 5: k = k + 1\n",
    "#        print(\"1ый орел\") \n",
    "\n",
    "    if y < 5: m = m + 1\n",
    "#        print(\"2ой орел\") \n",
    "\n",
    "    if x < 5 and y < 5: a = a + 1\n",
    "    if x < 5 or y < 5: b = b + 1\n",
    "        \n",
    "print(0.5, 0.5, 0.25, 0.75) \n",
    "print(k/n, m/n, a/n, b/n)"
   ]
  },
  {
   "cell_type": "code",
   "execution_count": 3,
   "id": "bff4429c",
   "metadata": {},
   "outputs": [
    {
     "data": {
      "text/plain": [
       "Text(0.5, 1.0, 'Histogram')"
      ]
     },
     "execution_count": 3,
     "metadata": {},
     "output_type": "execute_result"
    },
    {
     "data": {
      "image/png": "[encoded data removed]",
      "text/plain": [
       "<Figure size 432x288 with 1 Axes>"
      ]
     },
     "metadata": {
      "needs_background": "light"
     },
     "output_type": "display_data"
    }
   ],
   "source": [
    "n = 1000\n",
    "x0 = np.random.rand(n)\n",
    "x1 = np.random.rand(n)\n",
    "x2 = np.random.rand(n)\n",
    "x3 = np.random.rand(n)\n",
    "x4 = np.random.rand(n)\n",
    "x5 = np.random.rand(n)\n",
    "x6 = np.random.rand(n)\n",
    "x7 = np.random.rand(n)\n",
    "x8 = np.random.rand(n)\n",
    "x9 = np.random.rand(n)\n",
    "x = x0 + x1 + x2 + x3 + x4 + x5 + x6 + x7 + x8 + x9\n",
    "num_bins = 10\n",
    "n, bins, patches = plt.hist(x, num_bins)\n",
    "plt.xlabel('x')\n",
    "plt.ylabel('Probability')\n",
    "plt.title('Histogram')"
   ]
  },
  {
   "cell_type": "code",
   "execution_count": null,
   "id": "e9141e57",
   "metadata": {},
   "outputs": [],
   "source": []
  }
 ],
 "metadata": {
  "kernelspec": {
   "display_name": "Python 3",
   "language": "python",
   "name": "python3"
  },
  "language_info": {
   "codemirror_mode": {
    "name": "ipython",
    "version": 3
   },
   "file_extension": ".py",
   "mimetype": "text/x-python",
   "name": "python",
   "nbconvert_exporter": "python",
   "pygments_lexer": "ipython3",
   "version": "3.8.8"
  }
 },
 "nbformat": 4,
 "nbformat_minor": 5
}
