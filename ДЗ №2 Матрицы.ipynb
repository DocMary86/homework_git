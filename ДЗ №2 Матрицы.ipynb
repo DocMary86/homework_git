{
 "cells": [
  {
   "cell_type": "code",
   "execution_count": 1,
   "id": "210f7dc8",
   "metadata": {},
   "outputs": [],
   "source": [
    "import numpy as np"
   ]
  },
  {
   "cell_type": "code",
   "execution_count": 2,
   "id": "926f9177",
   "metadata": {},
   "outputs": [
    {
     "name": "stdout",
     "output_type": "stream",
     "text": [
      "Матрица A\n",
      "[[ 1 -2]\n",
      " [ 3  0]]\n",
      "Матрица B\n",
      "[[ 4 -1]\n",
      " [ 0  5]]\n",
      "Матрица С = A + B\n",
      "[[ 5 -3]\n",
      " [ 3  5]]\n",
      "Матрица AB\n",
      "[[  4 -11]\n",
      " [ 12  -3]]\n"
     ]
    }
   ],
   "source": [
    "# 2. Найдите сумму и произведение матриц  𝐴 и 𝐵.\n",
    "A = np.array([[1, -2], [3, 0]])\n",
    "B = np.array([[4, -1], [0, 5]])\n",
    "print(f'Матрица A\\n{A}')\n",
    "print(f'Матрица B\\n{B}')\n",
    "print(f'Матрица С = A + B\\n{A + B}')\n",
    "print(f'Матрица AB\\n{np.dot(A, B)}')"
   ]
  },
  {
   "cell_type": "code",
   "execution_count": 3,
   "id": "81e73033",
   "metadata": {},
   "outputs": [
    {
     "name": "stdout",
     "output_type": "stream",
     "text": [
      "Матрица A\n",
      "[[ 1 -2]\n",
      " [ 3  0]\n",
      " [ 4  9]\n",
      " [ 0  2]]\n",
      "Матрица B\n",
      "[[ 4 -1]\n",
      " [ 0  5]\n",
      " [ 2 -3]\n",
      " [ 0  7]]\n"
     ]
    },
    {
     "ename": "ValueError",
     "evalue": "shapes (4,2) and (4,2) not aligned: 2 (dim 1) != 4 (dim 0)",
     "output_type": "error",
     "traceback": [
      "\u001b[0;31m---------------------------------------------------------------------------\u001b[0m",
      "\u001b[0;31mValueError\u001b[0m                                Traceback (most recent call last)",
      "\u001b[0;32m<ipython-input-3-97a1d3e444ac>\u001b[0m in \u001b[0;36m<module>\u001b[0;34m\u001b[0m\n\u001b[1;32m      7\u001b[0m \u001b[0mprint\u001b[0m\u001b[0;34m(\u001b[0m\u001b[0;34mf'Матрица A\\n{A}'\u001b[0m\u001b[0;34m)\u001b[0m\u001b[0;34m\u001b[0m\u001b[0;34m\u001b[0m\u001b[0m\n\u001b[1;32m      8\u001b[0m \u001b[0mprint\u001b[0m\u001b[0;34m(\u001b[0m\u001b[0;34mf'Матрица B\\n{B}'\u001b[0m\u001b[0;34m)\u001b[0m\u001b[0;34m\u001b[0m\u001b[0;34m\u001b[0m\u001b[0m\n\u001b[0;32m----> 9\u001b[0;31m \u001b[0mprint\u001b[0m\u001b[0;34m(\u001b[0m\u001b[0;34mf'Матрица AB\\n{np.dot(A, B)}'\u001b[0m\u001b[0;34m)\u001b[0m\u001b[0;34m\u001b[0m\u001b[0;34m\u001b[0m\u001b[0m\n\u001b[0m",
      "\u001b[0;32m<__array_function__ internals>\u001b[0m in \u001b[0;36mdot\u001b[0;34m(*args, **kwargs)\u001b[0m\n",
      "\u001b[0;31mValueError\u001b[0m: shapes (4,2) and (4,2) not aligned: 2 (dim 1) != 4 (dim 0)"
     ]
    }
   ],
   "source": [
    "# 1. Установите, какие произведения матриц  𝐴𝐵  и  𝐵𝐴  определены, и найдите размерности полученных матриц:\n",
    "\n",
    "# а)  𝐴  — матрица  4×2 ,  𝐵  — матрица  4×2 \n",
    "\n",
    "A = np.array([[1, -2], [3, 0], [4, 9], [0, 2]])\n",
    "B = np.array([[4, -1], [0, 5], [2, -3], [0, 7]])\n",
    "print(f'Матрица A\\n{A}')\n",
    "print(f'Матрица B\\n{B}')\n",
    "print(f'Матрица AB\\n{np.dot(A, B)}')"
   ]
  },
  {
   "cell_type": "markdown",
   "id": "d0955c1b",
   "metadata": {},
   "source": [
    "#### Такие матрицы нельзя перемножить, число столбцов матрицы А не равно числу строк матрицы В"
   ]
  },
  {
   "cell_type": "code",
   "execution_count": 4,
   "id": "a7a56073",
   "metadata": {},
   "outputs": [
    {
     "name": "stdout",
     "output_type": "stream",
     "text": [
      "Матрица A\n",
      "[[ 1 -2  3  0  9]\n",
      " [ 4  9  0  2  5]]\n",
      "Матрица B\n",
      "[[ 4 -1  3]\n",
      " [ 0  5  2]\n",
      " [ 0  7  0]\n",
      " [ 2 -1  0]\n",
      " [ 2  8  4]]\n",
      "Матрица AB\n",
      "[[22 82 35]\n",
      " [30 79 50]]\n"
     ]
    }
   ],
   "source": [
    "# б)  𝐴  — матрица  2×5 ,  𝐵  — матрица  5×3;\n",
    "\n",
    "A = np.array([[1, -2, 3, 0, 9], [4, 9, 0, 2, 5]])\n",
    "B = np.array([[4, -1, 3], [0, 5, 2], [0, 7, 0], [2, -1, 0], [2, 8, 4]])\n",
    "print(f'Матрица A\\n{A}')\n",
    "print(f'Матрица B\\n{B}')\n",
    "print(f'Матрица AB\\n{np.dot(A, B)}')"
   ]
  },
  {
   "cell_type": "code",
   "execution_count": 5,
   "id": "2310042a",
   "metadata": {},
   "outputs": [
    {
     "data": {
      "text/plain": [
       "(2, 3)"
      ]
     },
     "execution_count": 5,
     "metadata": {},
     "output_type": "execute_result"
    }
   ],
   "source": [
    "AB = np.array([[22, 82, 35], [30, 79, 50]]) # узнаем размерность полученной матрицы\n",
    "AB.shape"
   ]
  },
  {
   "cell_type": "code",
   "execution_count": 6,
   "id": "c3703282",
   "metadata": {},
   "outputs": [
    {
     "name": "stdout",
     "output_type": "stream",
     "text": [
      "Матрица A\n",
      "[[ 1 -2  3]\n",
      " [ 4  9  0]\n",
      " [ 1  2  3]\n",
      " [ 4  5  6]\n",
      " [ 7  8  9]\n",
      " [-1 -2 -3]\n",
      " [ 0  0  1]\n",
      " [ 0  4  6]]\n",
      "Матрица B\n",
      "[[ 4 -1  3  0  5  2  5  6]\n",
      " [ 0  7  0  2 -1  0  5  3]\n",
      " [ 2  8  4  0  0  4  5  6]]\n",
      "Матрица AB\n",
      "[[ 10   9  15  -4   7  14  10  18]\n",
      " [ 16  59  12  18  11   8  65  51]\n",
      " [ 10  37  15   4   3  14  30  30]\n",
      " [ 28  79  36  10  15  32  75  75]\n",
      " [ 46 121  57  16  27  50 120 120]\n",
      " [-10 -37 -15  -4  -3 -14 -30 -30]\n",
      " [  2   8   4   0   0   4   5   6]\n",
      " [ 12  76  24   8  -4  24  50  48]]\n"
     ]
    }
   ],
   "source": [
    "# в)  𝐴  — матрица  8×3 ,  𝐵  — матрица  3×8;\n",
    "\n",
    "A = np.array([[1, -2, 3], [4, 9, 0], [1, 2, 3], [4, 5, 6], [7, 8, 9], [-1, -2, -3], [0, 0, 1], [0, 4, 6]])\n",
    "B = np.array([[4, -1, 3, 0, 5, 2, 5, 6], [0, 7, 0, 2, -1, 0, 5, 3], [2, 8, 4, 0, 0, 4, 5, 6]])\n",
    "print(f'Матрица A\\n{A}')\n",
    "print(f'Матрица B\\n{B}')\n",
    "print(f'Матрица AB\\n{np.dot(A, B)}')"
   ]
  },
  {
   "cell_type": "markdown",
   "id": "9debc9b9",
   "metadata": {},
   "source": [
    "#### Размерность матрицы 8x8"
   ]
  },
  {
   "cell_type": "code",
   "execution_count": 7,
   "id": "570823fa",
   "metadata": {},
   "outputs": [
    {
     "name": "stdout",
     "output_type": "stream",
     "text": [
      "Матрица A\n",
      "[[ 1 -2  3 -1]\n",
      " [ 4  9  0  2]\n",
      " [ 1  2  3  4]\n",
      " [ 4  5  6  0]]\n",
      "Матрица B\n",
      "[[ 4 -1  3  0]\n",
      " [ 0  7  0  2]\n",
      " [ 2  8  4  0]\n",
      " [ 1 -2  3  0]]\n",
      "Матрица AB\n",
      "[[ 9 11 12 -4]\n",
      " [18 55 18 18]\n",
      " [14 29 27  4]\n",
      " [28 79 36 10]]\n"
     ]
    }
   ],
   "source": [
    "# г)  𝐴  — квадратная матрица  4×4 ,  𝐵  — квадратная матрица  4×4\n",
    "\n",
    "A = np.array([[1, -2, 3, -1], [4, 9, 0, 2], [1, 2, 3, 4], [4, 5, 6, 0]])\n",
    "B = np.array([[4, -1, 3, 0], [0, 7, 0, 2], [2, 8, 4, 0], [1, -2, 3, 0]])\n",
    "print(f'Матрица A\\n{A}')\n",
    "print(f'Матрица B\\n{B}')\n",
    "print(f'Матрица AB\\n{np.dot(A, B)}')"
   ]
  },
  {
   "cell_type": "markdown",
   "id": "80849f2f",
   "metadata": {},
   "source": [
    "#### Размерность матрицы 4x4"
   ]
  },
  {
   "cell_type": "code",
   "execution_count": 8,
   "id": "d0a42bfb",
   "metadata": {},
   "outputs": [
    {
     "name": "stdout",
     "output_type": "stream",
     "text": [
      "Матрица A\n",
      "[[ 4  1]\n",
      " [ 5 -2]\n",
      " [ 2  3]]\n"
     ]
    }
   ],
   "source": [
    "# 4. Вычислите  𝐴*𝐴^𝑇  и  𝐴^𝑇*𝐴 \n",
    "\n",
    "A = np.array([[4, 1], [5, -2], [2, 3]])\n",
    "print(f'Матрица A\\n{A}')"
   ]
  },
  {
   "cell_type": "code",
   "execution_count": 9,
   "id": "d3b894d5",
   "metadata": {},
   "outputs": [
    {
     "name": "stdout",
     "output_type": "stream",
     "text": [
      "Транспонированная матрица:C\n",
      "[[ 4  5  2]\n",
      " [ 1 -2  3]]\n"
     ]
    }
   ],
   "source": [
    "print(f'Транспонированная матрица:C\\n{A.T}')"
   ]
  },
  {
   "cell_type": "code",
   "execution_count": 10,
   "id": "9b2994e4",
   "metadata": {},
   "outputs": [
    {
     "name": "stdout",
     "output_type": "stream",
     "text": [
      "Матрица AC\n",
      "[[17 18 11]\n",
      " [18 29  4]\n",
      " [11  4 13]]\n"
     ]
    }
   ],
   "source": [
    "C = np.array([[4, 5, 2], [1, -2, 3]])\n",
    "print(f'Матрица AC\\n{np.dot(A, C)}') # 𝐴*𝐴^𝑇"
   ]
  },
  {
   "cell_type": "code",
   "execution_count": 11,
   "id": "da1f9549",
   "metadata": {},
   "outputs": [
    {
     "name": "stdout",
     "output_type": "stream",
     "text": [
      "Матрица CA\n",
      "[[45  0]\n",
      " [ 0 14]]\n"
     ]
    }
   ],
   "source": [
    "print(f'Матрица CA\\n{np.dot(C, A)}') # 𝐴^𝑇*𝐴"
   ]
  },
  {
   "cell_type": "code",
   "execution_count": 12,
   "id": "3eb7937f",
   "metadata": {},
   "outputs": [
    {
     "name": "stdout",
     "output_type": "stream",
     "text": [
      "[[3, 1, 4], [3, 2, 2], [12, 7, 10]]\n"
     ]
    }
   ],
   "source": [
    "# 5. Напишите на Python функцию для перемножения двух произвольных матриц, не используя NumPy\n",
    "\n",
    "# На примере квадратной матрицы:\n",
    "\n",
    "a = [[1, 1, 0],\n",
    "     [1, 0, 2],\n",
    "     [2, 3, 4]]\n",
    "     \n",
    "b = [[1, 0, 2],\n",
    "     [2, 1, 2],\n",
    "     [1, 1, 0]]\n",
    "\n",
    "m = len(a)                                            # a: m × n\n",
    "n = len(b)                                            # b: n × k\n",
    "k = len(b[0])\n",
    "\n",
    "c = [[None for __ in range(k)] for __ in range(m)]    # c: m × k\n",
    "\n",
    "for i in range(m):\n",
    "    for j in range(k):       \n",
    "        c[i][j] = sum(a[i][kk] * b[kk][j] for kk in range(n))\n",
    "  \n",
    "print(c)"
   ]
  },
  {
   "cell_type": "code",
   "execution_count": 13,
   "id": "195c81d2",
   "metadata": {},
   "outputs": [
    {
     "name": "stdout",
     "output_type": "stream",
     "text": [
      "[[3, 1, 4, 1], [3, 2, 2, 7]]\n"
     ]
    }
   ],
   "source": [
    "# На примере матриц разной размерности:\n",
    "\n",
    "a = [[1, 1, 0],\n",
    "     [1, 0, 2]]\n",
    "     \n",
    "b = [[1, 0, 2, 1],\n",
    "     [2, 1, 2, 0],\n",
    "     [1, 1, 0, 3]]\n",
    "\n",
    "m = len(a)                                            # a: m × n\n",
    "n = len(b)                                            # b: n × k\n",
    "k = len(b[0])\n",
    "\n",
    "c = [[None for __ in range(k)] for __ in range(m)]    # c: m × k\n",
    "\n",
    "for i in range(m):\n",
    "    for j in range(k):       \n",
    "        c[i][j] = sum(a[i][kk] * b[kk][j] for kk in range(n))\n",
    "  \n",
    "print(c)"
   ]
  },
  {
   "cell_type": "markdown",
   "id": "470488b1",
   "metadata": {},
   "source": [
    "## Практическое задание / часть №2"
   ]
  },
  {
   "cell_type": "code",
   "execution_count": 14,
   "id": "5bc6eb70",
   "metadata": {},
   "outputs": [
    {
     "name": "stdout",
     "output_type": "stream",
     "text": [
      "Матрица:\n",
      "[[4 2 3]\n",
      " [0 5 1]\n",
      " [0 0 9]]\n",
      "Определитель:\n",
      "180\n"
     ]
    }
   ],
   "source": [
    "# 1. Вычислите определитель\n",
    "\n",
    "a = np.array([[4, 2, 3], [0, 5, 1], [0, 0, 9]])\n",
    "print(f'Матрица:\\n{a}')\n",
    "print(f'Определитель:\\n{np.linalg.det(a):.0f}')"
   ]
  },
  {
   "cell_type": "code",
   "execution_count": 15,
   "id": "07bad63b",
   "metadata": {},
   "outputs": [
    {
     "name": "stdout",
     "output_type": "stream",
     "text": [
      "Матрица:\n",
      "[[1 2 3]\n",
      " [4 5 6]\n",
      " [7 8 9]]\n",
      "Определитель:\n",
      "-0\n"
     ]
    }
   ],
   "source": [
    "a = np.array([[1, 2, 3], [4, 5, 6], [7, 8, 9]])\n",
    "print(f'Матрица:\\n{a}')\n",
    "print(f'Определитель:\\n{np.linalg.det(a):.0f}')"
   ]
  },
  {
   "cell_type": "code",
   "execution_count": 16,
   "id": "04cd3bec",
   "metadata": {},
   "outputs": [
    {
     "name": "stdout",
     "output_type": "stream",
     "text": [
      "Матрица:\n",
      "[[ -2   7  -3]\n",
      " [  4 -14   6]\n",
      " [ -3   7  13]]\n",
      "Определитель:\n",
      "0\n"
     ]
    }
   ],
   "source": [
    "#  3. Докажите, что матрица вырожденная\n",
    "\n",
    "a = np.array([[-2, 7, -3], [4, -14, 6], [-3, 7, 13]])\n",
    "print(f'Матрица:\\n{a}')\n",
    "print(f'Определитель:\\n{np.linalg.det(a):.0f}')"
   ]
  },
  {
   "cell_type": "markdown",
   "id": "7ce6a212",
   "metadata": {},
   "source": [
    "#### Матрица вырожденная, так как определеить равен 0."
   ]
  },
  {
   "cell_type": "code",
   "execution_count": 17,
   "id": "12325281",
   "metadata": {},
   "outputs": [
    {
     "name": "stdout",
     "output_type": "stream",
     "text": [
      "Ранг матрицы: 2\n"
     ]
    }
   ],
   "source": [
    "# 4. Найдите ранг матрицы\n",
    "\n",
    "x = [1, 2, 3]\n",
    "y = [1, 1, 1]\n",
    "z = [2, 3, 4]\n",
    "\n",
    "a = np.array([x, y, z])\n",
    "r = np.linalg.matrix_rank(a)\n",
    "\n",
    "print(f'Ранг матрицы: {r}')"
   ]
  },
  {
   "cell_type": "code",
   "execution_count": 18,
   "id": "2ccf5ed3",
   "metadata": {},
   "outputs": [
    {
     "name": "stdout",
     "output_type": "stream",
     "text": [
      "Ранг матрицы: 3\n"
     ]
    }
   ],
   "source": [
    "x = [0, 0, 2, 1]\n",
    "y = [0, 0, 2, 2]\n",
    "z = [0, 0, 4, 3]\n",
    "w = [2, 3, 5, 6]\n",
    "\n",
    "a = np.array([x, y, z, w])\n",
    "r = np.linalg.matrix_rank(a)\n",
    "\n",
    "print(f'Ранг матрицы: {r}')"
   ]
  },
  {
   "cell_type": "code",
   "execution_count": null,
   "id": "d1306b3b",
   "metadata": {},
   "outputs": [],
   "source": []
  }
 ],
 "metadata": {
  "kernelspec": {
   "display_name": "Python 3",
   "language": "python",
   "name": "python3"
  },
  "language_info": {
   "codemirror_mode": {
    "name": "ipython",
    "version": 3
   },
   "file_extension": ".py",
   "mimetype": "text/x-python",
   "name": "python",
   "nbconvert_exporter": "python",
   "pygments_lexer": "ipython3",
   "version": "3.8.8"
  }
 },
 "nbformat": 4,
 "nbformat_minor": 5
}
