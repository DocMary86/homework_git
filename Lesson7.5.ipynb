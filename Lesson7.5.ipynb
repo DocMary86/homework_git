{
 "cells": [
  {
   "cell_type": "code",
   "execution_count": 1,
   "id": "e41bfea9",
   "metadata": {},
   "outputs": [],
   "source": [
    "%matplotlib inline\n",
    "import numpy as np\n",
    "import matplotlib.pyplot as plt"
   ]
  },
  {
   "cell_type": "code",
   "execution_count": 2,
   "id": "4da5b1ad",
   "metadata": {},
   "outputs": [
    {
     "name": "stdout",
     "output_type": "stream",
     "text": [
      "228.5\n",
      "228.5\n"
     ]
    }
   ],
   "source": [
    "a = np.array([1, 5, 0], float)\n",
    "b = np.array([2, 8, 7], float)\n",
    "c = np.array([7, 1.5, 3], float)\n",
    "v = np.cross(a, b)\n",
    "print(np.inner(v, c))\n",
    "w = np.cross(b, c)\n",
    "print(np.inner(w, a))"
   ]
  },
  {
   "cell_type": "code",
   "execution_count": null,
   "id": "3396a866",
   "metadata": {},
   "outputs": [],
   "source": []
  }
 ],
 "metadata": {
  "kernelspec": {
   "display_name": "Python 3",
   "language": "python",
   "name": "python3"
  },
  "language_info": {
   "codemirror_mode": {
    "name": "ipython",
    "version": 3
   },
   "file_extension": ".py",
   "mimetype": "text/x-python",
   "name": "python",
   "nbconvert_exporter": "python",
   "pygments_lexer": "ipython3",
   "version": "3.8.8"
  }
 },
 "nbformat": 4,
 "nbformat_minor": 5
}
